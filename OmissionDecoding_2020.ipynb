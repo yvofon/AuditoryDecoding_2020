{
 "cells": [
  {
   "cell_type": "markdown",
   "metadata": {},
   "source": [
    "# Purpose of this notebook\n",
    "\n",
    "This notebook accompanies the paper uploaded on Biorxiv, which is currently in revision for publication. The decoding analyses described in the paper can be found below. \n",
    "\n",
    "Once the data has been preprocessed and verified to your satisfaction, this is the notebook where the decoding analyses are run. The actual work of the decoding is once again specified in the `omission` module, specifically in `omission.build_classifier()`. For the purposes of the paper these analyses here are done on high-frequency band (70-150Hz) analytic amplitudes, but this notebook can be used with data involving different preprocessing steps as well. \n",
    "\n",
    "In this notebook there are a number of different decoding approaches: \n",
    "- Verification of heard-syllable decoding (sanity check): Can we decode hear 'Ba' from 'Ga sounds? \n",
    "\n",
    "- First pass omission decoding: feature selection based on above analysis (good heard-syllable decoding electrodes), followed by decoding of omitted Ba vs Ga\n",
    "\n",
    "- Alternative decoding approach: Can we train the classifier on heard Ba/Ga, and use that to decode which syllable was omitted? (this is testing the strong hypothesis on template activation)\n",
    "\n",
    "- Post-hoc analysis: Decoding of omitted syllable based on above-baseline omission activations"
   ]
  },
  {
   "cell_type": "markdown",
   "metadata": {},
   "source": [
    "## Notebook setup and file loading"
   ]
  },
  {
   "cell_type": "code",
   "execution_count": 2,
   "metadata": {
    "collapsed": true
   },
   "outputs": [],
   "source": [
    "%matplotlib inline\n",
    "%load_ext autoreload\n",
    "%autoreload 2|"
   ]
  },
  {
   "cell_type": "code",
   "execution_count": 3,
   "metadata": {
    "collapsed": true
   },
   "outputs": [],
   "source": [
    "import os, glob, sys\n",
    "import numpy as np\n",
    "import pandas as pd\n",
    "import mne\n",
    "import omission\n",
    "import matplotlib.pyplot as plt\n",
    "from sklearn.linear_model import LogisticRegression\n",
    "from sklearn.svm import SVC\n",
    "#import stats\n",
    "\n",
    "from matplotlib.backends.backend_pdf import PdfPages"
   ]
  },
  {
   "cell_type": "code",
   "execution_count": 10,
   "metadata": {
    "collapsed": true
   },
   "outputs": [],
   "source": [
    "## Setup specifics per subject\n",
    "foldername = {'AB62':'Albany62', 'AB71': 'Albany71', 'AB78':'Albany78', 'AB79': 'Albany79', 'AB81': 'Albany81'}\n",
    "PicName = {}\n",
    "elecNum = {251, 231}\n"
   ]
  },
  {
   "cell_type": "code",
   "execution_count": 11,
   "metadata": {
    "collapsed": true
   },
   "outputs": [],
   "source": [
    "# Select which subject you want to look at: \n",
    "subject_ID = 'AB62'\n",
    "# 0- AB62, 1-AB71, 2-AB78, 3-AB79, 4-AB81'"
   ]
  },
  {
   "cell_type": "code",
   "execution_count": 13,
   "metadata": {},
   "outputs": [
    {
     "data": {
      "text/plain": [
       "'Albany62'"
      ]
     },
     "execution_count": 13,
     "metadata": {},
     "output_type": "execute_result"
    }
   ],
   "source": [
    "foldername[subject_ID]"
   ]
  },
  {
   "cell_type": "markdown",
   "metadata": {},
   "source": [
    "## Load the data"
   ]
  },
  {
   "cell_type": "code",
   "execution_count": 14,
   "metadata": {},
   "outputs": [
    {
     "name": "stdout",
     "output_type": "stream",
     "text": [
      "['/home/knight/ECOGprediction/OmissionDetection/Data/Albany62/sge/epochDataHilbertHG_Dig-B03.npz', '/home/knight/ECOGprediction/OmissionDetection/Data/Albany62/sge/epochDataHilbertHG_Dig-B04.npz', '/home/knight/ECOGprediction/OmissionDetection/Data/Albany62/sge/epochDataHilbertHG_Dig-B05.npz', '/home/knight/ECOGprediction/OmissionDetection/Data/Albany62/sge/epochDataHilbertHG_Dig-B06.npz', '/home/knight/ECOGprediction/OmissionDetection/Data/Albany62/sge/epochDataHilbertHG_Dig-B07.npz', '/home/knight/ECOGprediction/OmissionDetection/Data/Albany62/sge/epochDataHilbertHG_Dig-B08.npz']\n"
     ]
    }
   ],
   "source": [
    "epochs_fns = sorted(glob.glob('/home/knight/ECOGprediction/OmissionDetection/Data/' + foldername[subject_ID]+ '/sge/epochDataHilbertHG_Dig-B*'))\n",
    "print epochs_fns"
   ]
  },
  {
   "cell_type": "code",
   "execution_count": 15,
   "metadata": {},
   "outputs": [
    {
     "name": "stdout",
     "output_type": "stream",
     "text": [
      "(470, 229, 301) <Info | 16 non-empty fields\n",
      "    bads : list | 0 items\n",
      "    buffer_size_sec : float | 1.0\n",
      "    ch_names : list | EEG 1, EEG 2, EEG 3, EEG 4, EEG 5, EEG 6, EEG 11, ...\n",
      "    chs : list | 229 items (MISC: 229)\n",
      "    comps : list | 0 items\n",
      "    custom_ref_applied : bool | False\n",
      "    dev_head_t : 'mne.transforms.Transform | 3 items\n",
      "    events : list | 0 items\n",
      "    highpass : float | 70.0 Hz\n",
      "    hpi_meas : list | 0 items\n",
      "    hpi_results : list | 0 items\n",
      "    lowpass : float | 25.0 Hz\n",
      "    meas_date : numpy.ndarray | 1969-12-31 16:00:00\n",
      "    nchan : int | 229\n",
      "    projs : list | 0 items\n",
      "    sfreq : float | 100.0 Hz\n",
      "    acq_pars : NoneType\n",
      "    acq_stim : NoneType\n",
      "    ctf_head_t : NoneType\n",
      "    description : NoneType\n",
      "    dev_ctf_t : NoneType\n",
      "    dig : NoneType\n",
      "    experimenter : NoneType\n",
      "    file_id : NoneType\n",
      "    hpi_subsystem : NoneType\n",
      "    kit_system_id : NoneType\n",
      "    line_freq : NoneType\n",
      "    meas_id : NoneType\n",
      "    proj_id : NoneType\n",
      "    proj_name : NoneType\n",
      "    subject_info : NoneType\n",
      "    xplotter_layout : NoneType\n",
      "> (470, 3) [-1.5] {'ba': 12, 'expected_ba': 22, 'la': 11, 'expected_ga': 23, 'ga': 13, 'ta': 15}\n",
      "470 matching events found\n",
      "0 projection items activated\n",
      "0 bad epochs dropped\n",
      "(480, 228, 301) <Info | 16 non-empty fields\n",
      "    bads : list | 0 items\n",
      "    buffer_size_sec : float | 1.0\n",
      "    ch_names : list | EEG 1, EEG 2, EEG 3, EEG 4, EEG 5, EEG 6, EEG 11, ...\n",
      "    chs : list | 228 items (MISC: 228)\n",
      "    comps : list | 0 items\n",
      "    custom_ref_applied : bool | False\n",
      "    dev_head_t : 'mne.transforms.Transform | 3 items\n",
      "    events : list | 0 items\n",
      "    highpass : float | 70.0 Hz\n",
      "    hpi_meas : list | 0 items\n",
      "    hpi_results : list | 0 items\n",
      "    lowpass : float | 25.0 Hz\n",
      "    meas_date : numpy.ndarray | 1969-12-31 16:00:00\n",
      "    nchan : int | 228\n",
      "    projs : list | 0 items\n",
      "    sfreq : float | 100.0 Hz\n",
      "    acq_pars : NoneType\n",
      "    acq_stim : NoneType\n",
      "    ctf_head_t : NoneType\n",
      "    description : NoneType\n",
      "    dev_ctf_t : NoneType\n",
      "    dig : NoneType\n",
      "    experimenter : NoneType\n",
      "    file_id : NoneType\n",
      "    hpi_subsystem : NoneType\n",
      "    kit_system_id : NoneType\n",
      "    line_freq : NoneType\n",
      "    meas_id : NoneType\n",
      "    proj_id : NoneType\n",
      "    proj_name : NoneType\n",
      "    subject_info : NoneType\n",
      "    xplotter_layout : NoneType\n",
      "> (480, 3) [-1.5] {'ba': 12, 'expected_ba': 22, 'la': 11, 'expected_ga': 23, 'ga': 13, 'ta': 15}\n",
      "480 matching events found\n",
      "0 projection items activated\n",
      "0 bad epochs dropped\n",
      "following channel does not exist in all blocks\n",
      "set([u'EEG 182', u'EEG 101', u'EEG 120', u'EEG 124', u'EEG 238'])\n",
      "(391, 229, 301) <Info | 16 non-empty fields\n",
      "    bads : list | 0 items\n",
      "    buffer_size_sec : float | 1.0\n",
      "    ch_names : list | EEG 1, EEG 2, EEG 3, EEG 4, EEG 5, EEG 6, EEG 11, ...\n",
      "    chs : list | 229 items (MISC: 229)\n",
      "    comps : list | 0 items\n",
      "    custom_ref_applied : bool | False\n",
      "    dev_head_t : 'mne.transforms.Transform | 3 items\n",
      "    events : list | 0 items\n",
      "    highpass : float | 70.0 Hz\n",
      "    hpi_meas : list | 0 items\n",
      "    hpi_results : list | 0 items\n",
      "    lowpass : float | 25.0 Hz\n",
      "    meas_date : numpy.ndarray | 1969-12-31 16:00:00\n",
      "    nchan : int | 229\n",
      "    projs : list | 0 items\n",
      "    sfreq : float | 100.0 Hz\n",
      "    acq_pars : NoneType\n",
      "    acq_stim : NoneType\n",
      "    ctf_head_t : NoneType\n",
      "    description : NoneType\n",
      "    dev_ctf_t : NoneType\n",
      "    dig : NoneType\n",
      "    experimenter : NoneType\n",
      "    file_id : NoneType\n",
      "    hpi_subsystem : NoneType\n",
      "    kit_system_id : NoneType\n",
      "    line_freq : NoneType\n",
      "    meas_id : NoneType\n",
      "    proj_id : NoneType\n",
      "    proj_name : NoneType\n",
      "    subject_info : NoneType\n",
      "    xplotter_layout : NoneType\n",
      "> (391, 3) [-1.5] {'ba': 12, 'expected_ba': 22, 'la': 11, 'expected_ga': 23, 'ga': 13, 'ta': 15}\n",
      "391 matching events found\n",
      "0 projection items activated\n",
      "0 bad epochs dropped\n",
      "following channel does not exist in all blocks\n",
      "set([u'EEG 124'])\n",
      "(473, 228, 301) <Info | 16 non-empty fields\n",
      "    bads : list | 0 items\n",
      "    buffer_size_sec : float | 1.0\n",
      "    ch_names : list | EEG 1, EEG 2, EEG 3, EEG 4, EEG 5, EEG 6, EEG 11, ...\n",
      "    chs : list | 228 items (MISC: 228)\n",
      "    comps : list | 0 items\n",
      "    custom_ref_applied : bool | False\n",
      "    dev_head_t : 'mne.transforms.Transform | 3 items\n",
      "    events : list | 0 items\n",
      "    highpass : float | 70.0 Hz\n",
      "    hpi_meas : list | 0 items\n",
      "    hpi_results : list | 0 items\n",
      "    lowpass : float | 25.0 Hz\n",
      "    meas_date : numpy.ndarray | 1969-12-31 16:00:00\n",
      "    nchan : int | 228\n",
      "    projs : list | 0 items\n",
      "    sfreq : float | 100.0 Hz\n",
      "    acq_pars : NoneType\n",
      "    acq_stim : NoneType\n",
      "    ctf_head_t : NoneType\n",
      "    description : NoneType\n",
      "    dev_ctf_t : NoneType\n",
      "    dig : NoneType\n",
      "    experimenter : NoneType\n",
      "    file_id : NoneType\n",
      "    hpi_subsystem : NoneType\n",
      "    kit_system_id : NoneType\n",
      "    line_freq : NoneType\n",
      "    meas_id : NoneType\n",
      "    proj_id : NoneType\n",
      "    proj_name : NoneType\n",
      "    subject_info : NoneType\n",
      "    xplotter_layout : NoneType\n",
      "> (473, 3) [-1.5] {'ba': 12, 'expected_ba': 22, 'la': 11, 'expected_ga': 23, 'ga': 13, 'ta': 15}\n",
      "473 matching events found\n",
      "0 projection items activated\n",
      "0 bad epochs dropped\n",
      "following channel does not exist in all blocks\n",
      "set([u'EEG 182', u'EEG 101', u'EEG 127', u'EEG 238', u'EEG 231'])\n",
      "(449, 226, 301) <Info | 16 non-empty fields\n",
      "    bads : list | 0 items\n",
      "    buffer_size_sec : float | 1.0\n",
      "    ch_names : list | EEG 1, EEG 2, EEG 3, EEG 4, EEG 5, EEG 6, EEG 13, ...\n",
      "    chs : list | 226 items (MISC: 226)\n",
      "    comps : list | 0 items\n",
      "    custom_ref_applied : bool | False\n",
      "    dev_head_t : 'mne.transforms.Transform | 3 items\n",
      "    events : list | 0 items\n",
      "    highpass : float | 70.0 Hz\n",
      "    hpi_meas : list | 0 items\n",
      "    hpi_results : list | 0 items\n",
      "    lowpass : float | 25.0 Hz\n",
      "    meas_date : numpy.ndarray | 1969-12-31 16:00:00\n",
      "    nchan : int | 226\n",
      "    projs : list | 0 items\n",
      "    sfreq : float | 100.0 Hz\n",
      "    acq_pars : NoneType\n",
      "    acq_stim : NoneType\n",
      "    ctf_head_t : NoneType\n",
      "    description : NoneType\n",
      "    dev_ctf_t : NoneType\n",
      "    dig : NoneType\n",
      "    experimenter : NoneType\n",
      "    file_id : NoneType\n",
      "    hpi_subsystem : NoneType\n",
      "    kit_system_id : NoneType\n",
      "    line_freq : NoneType\n",
      "    meas_id : NoneType\n",
      "    proj_id : NoneType\n",
      "    proj_name : NoneType\n",
      "    subject_info : NoneType\n",
      "    xplotter_layout : NoneType\n",
      "> (449, 3) [-1.5] {'ba': 12, 'expected_ba': 22, 'la': 11, 'expected_ga': 23, 'ga': 13, 'ta': 15}\n",
      "449 matching events found\n",
      "0 projection items activated\n",
      "0 bad epochs dropped\n",
      "following channel does not exist in all blocks\n",
      "set([u'EEG 96', u'EEG 156', u'EEG 94', u'EEG 11', u'EEG 101', u'EEG 127', u'EEG 238', u'EEG 231'])\n",
      "(461, 226, 301) <Info | 16 non-empty fields\n",
      "    bads : list | 0 items\n",
      "    buffer_size_sec : float | 1.0\n",
      "    ch_names : list | EEG 1, EEG 2, EEG 3, EEG 4, EEG 5, EEG 6, EEG 13, ...\n",
      "    chs : list | 226 items (MISC: 226)\n",
      "    comps : list | 0 items\n",
      "    custom_ref_applied : bool | False\n",
      "    dev_head_t : 'mne.transforms.Transform | 3 items\n",
      "    events : list | 0 items\n",
      "    highpass : float | 70.0 Hz\n",
      "    hpi_meas : list | 0 items\n",
      "    hpi_results : list | 0 items\n",
      "    lowpass : float | 25.0 Hz\n",
      "    meas_date : numpy.ndarray | 1969-12-31 16:00:00\n",
      "    nchan : int | 226\n",
      "    projs : list | 0 items\n",
      "    sfreq : float | 100.0 Hz\n",
      "    acq_pars : NoneType\n",
      "    acq_stim : NoneType\n",
      "    ctf_head_t : NoneType\n",
      "    description : NoneType\n",
      "    dev_ctf_t : NoneType\n",
      "    dig : NoneType\n",
      "    experimenter : NoneType\n",
      "    file_id : NoneType\n",
      "    hpi_subsystem : NoneType\n",
      "    kit_system_id : NoneType\n",
      "    line_freq : NoneType\n",
      "    meas_id : NoneType\n",
      "    proj_id : NoneType\n",
      "    proj_name : NoneType\n",
      "    subject_info : NoneType\n",
      "    xplotter_layout : NoneType\n",
      "> (461, 3) [-1.5] {'ba': 12, 'expected_ba': 22, 'la': 11, 'expected_ga': 23, 'ga': 13, 'ta': 15}\n",
      "461 matching events found\n",
      "0 projection items activated\n",
      "0 bad epochs dropped\n",
      "following channel does not exist in all blocks\n",
      "set([u'EEG 156', u'EEG 96', u'EEG 94', u'EEG 224', u'EEG 101', u'EEG 113', u'EEG 120', u'EEG 238'])\n",
      "[[u'EEG 182', u'EEG 101', u'EEG 120', u'EEG 124', u'EEG 238'], [u'EEG 124'], [u'EEG 182', u'EEG 101', u'EEG 127', u'EEG 238', u'EEG 231'], [u'EEG 96', u'EEG 156', u'EEG 94', u'EEG 11', u'EEG 101', u'EEG 127', u'EEG 238', u'EEG 231'], [u'EEG 156', u'EEG 96', u'EEG 94', u'EEG 224', u'EEG 101', u'EEG 113', u'EEG 120', u'EEG 238']]\n",
      "hello\n",
      "2724 matching events found\n",
      "0 bad epochs dropped\n",
      "{'ba': 12, 'expected_ba': 22, 'la': 11, 'expected_ga': 23, 'ga': 13, 'ta': 15}\n"
     ]
    }
   ],
   "source": [
    "ep_arrs = []\n",
    "drop_chans = []\n",
    "for f in epochs_fns:\n",
    "    ep = np.load(f)\n",
    "    globals().update(ep) # load all vars, changed 'locals' to 'globals' to fix error that came up when I turned this into a function\n",
    "    print data.shape, info.item(), events.shape, tmin, event_id\n",
    "    eparr = mne.EpochsArray(data, info.item(), events, tmin.item(), event_id.item(), baseline=None)\n",
    "    #ep_arrs.append(eparr)\n",
    "    if 'tmp' in locals():\n",
    "        a = set(tmp).symmetric_difference( eparr.info['ch_names'])\n",
    "        print 'following channel does not exist in all blocks'\n",
    "        print a\n",
    "        drop_chans.append(list(a))\n",
    "\n",
    "    tmp = eparr.info['ch_names']\n",
    "\n",
    "\n",
    "    ep_arrs.append(eparr)\n",
    "\n",
    "#remove channels that are not in all blocks\n",
    "print drop_chans\n",
    "import itertools\n",
    "flat_drop = list(itertools.chain.from_iterable(drop_chans))\n",
    "good_chs = [ch for ch in ep_arrs[0].info['ch_names'] if ch not in\n",
    "        flat_drop]\n",
    "\n",
    "\n",
    "print('hello')\n",
    "\n",
    "for i in range(len(ep_arrs)):\n",
    "    ep_arrs[i].pick_channels(good_chs) #\n",
    "\n",
    "\n",
    "event_ids = event_id.item()\n",
    "all_epochs = mne.epochs.concatenate_epochs(ep_arrs)\n",
    "print event_ids\n",
    "del ep_arrs\n",
    "del tmp\n",
    "\n",
    "# If control block\n",
    "#ep_arrs_control = []\n",
    "#ep = np.load(epochs_fns_ctrl)\n",
    "#locals().update(ep)\n",
    "#print data.shape, info.item(), events.shape, t_min, event_id\n",
    "#control_epochs = mne.EpochsArray(data, info.item(), events, t_min.item(), event_id.item(), baseline = None)\n",
    "\n",
    "#event_idsControl = event_id.item()"
   ]
  },
  {
   "cell_type": "markdown",
   "metadata": {},
   "source": [
    "## Define options that will be used throughout the notebook for classification"
   ]
  },
  {
   "cell_type": "code",
   "execution_count": 16,
   "metadata": {
    "collapsed": true
   },
   "outputs": [],
   "source": [
    "n_cv = 10 # cross-validation iterations\n",
    "n_ch = len(all_epochs.ch_names)\n",
    "chan_scores = np.zeros(shape=(n_ch, n_cv)) # output structure for cv"
   ]
  },
  {
   "cell_type": "code",
   "execution_count": 17,
   "metadata": {
    "collapsed": true
   },
   "outputs": [],
   "source": [
    "t0 = 0 # seconds before (negative) or after stim to start classifying from\n",
    "t1 = .5 # s after stim to stop using data to classify\n",
    "percentiles = [.5, 2.5, 5, 50, 95, 97.5, 99.5]"
   ]
  },
  {
   "cell_type": "code",
   "execution_count": null,
   "metadata": {
    "collapsed": true
   },
   "outputs": [],
   "source": [
    "# finds relevant percentiles from bootstrap distr, based on values given in 'percentiles'\n",
    "def pcts(scores, percentiles):\n",
    "    for p in percentiles:\n",
    "        print '%.1f%%: %.04f'%(p, np.percentile(scores, p))"
   ]
  },
  {
   "cell_type": "code",
   "execution_count": null,
   "metadata": {
    "collapsed": true
   },
   "outputs": [],
   "source": [
    "from sklearn import svm\n",
    "logit = svm.LinearSVC(penalty= 'l2')\n",
    "model = logit # model is the var that we pass to functions"
   ]
  },
  {
   "cell_type": "markdown",
   "metadata": {},
   "source": [
    "## Code to setup plotting of data on de 2D brain"
   ]
  },
  {
   "cell_type": "code",
   "execution_count": 18,
   "metadata": {},
   "outputs": [
    {
     "name": "stdout",
     "output_type": "stream",
     "text": [
      "/home/knight/ECOGprediction/Scripts/Python/Old/AB62gray.png\n"
     ]
    }
   ],
   "source": [
    "# Update accordingl\n",
    "from os import path as op\n",
    "from scipy.ndimage import imread\n",
    "\n",
    "sub_name = 'AB62'\n",
    "im_path = '/home/knight/ECOGprediction/Scripts/Python/Old/AB62gray.png'\n",
    "print im_path\n",
    "# We've already clicked and exported\n",
    "layout_path = '/home/knight/ECOGprediction/Scripts/Python/Old'\n",
    "layout_name = 'custom_layoutAB62.lout'"
   ]
  },
  {
   "cell_type": "code",
   "execution_count": 19,
   "metadata": {},
   "outputs": [
    {
     "data": {
      "text/plain": [
       "<matplotlib.image.AxesImage at 0x7f1d3c6f7ed0>"
      ]
     },
     "execution_count": 19,
     "metadata": {},
     "output_type": "execute_result"
    },
    {
     "data": {
      "image/png": "[encoded data removed]",
      "text/plain": [
       "<matplotlib.figure.Figure at 0x7f1d3c827fd0>"
      ]
     },
     "metadata": {},
     "output_type": "display_data"
    }
   ],
   "source": [
    "# Show the picture to check if it's the right one\n",
    "im = imread(im_path)\n",
    "plt.imshow(im)"
   ]
  },
  {
   "cell_type": "code",
   "execution_count": 21,
   "metadata": {
    "collapsed": true
   },
   "outputs": [],
   "source": [
    "# We've already got the layout, load it\n",
    "lt = mne.channels.read_layout(layout_name, path=layout_path, scale=False)"
   ]
  },
  {
   "cell_type": "code",
   "execution_count": null,
   "metadata": {
    "collapsed": true
   },
   "outputs": [],
   "source": []
  }
 ],
 "metadata": {
  "kernelspec": {
   "display_name": "Python [default]",
   "language": "python",
   "name": "python2"
  },
  "language_info": {
   "codemirror_mode": {
    "name": "ipython",
    "version": 2
   },
   "file_extension": ".py",
   "mimetype": "text/x-python",
   "name": "python",
   "nbconvert_exporter": "python",
   "pygments_lexer": "ipython2",
   "version": "2.7.13"
  }
 },
 "nbformat": 4,
 "nbformat_minor": 2
}
